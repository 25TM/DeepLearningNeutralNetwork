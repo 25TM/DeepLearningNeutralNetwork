{
 "cells": [
  {
   "cell_type": "code",
   "execution_count": 1,
   "id": "34891aba",
   "metadata": {},
   "outputs": [
    {
     "name": "stdout",
     "output_type": "stream",
     "text": [
      "[1]\n"
     ]
    }
   ],
   "source": [
    "import numpy as np\n",
    "from sklearn.datasets import load_iris\n",
    "from sklearn.linear_model import Perceptron\n",
    "iris = load_iris()\n",
    "X = iris.data[:, (2, 3)] # petal length, petal width\n",
    "y = (iris.target == 0).astype(int) \n",
    "per_clf = Perceptron(random_state=42)\n",
    "per_clf.fit(X, y)\n",
    "y_pred = per_clf.predict([[2, 0.5]])\n",
    "print(y_pred)\n"
   ]
  },
  {
   "cell_type": "code",
   "execution_count": null,
   "id": "09279b08",
   "metadata": {},
   "outputs": [],
   "source": [
    "pip install python-mnist"
   ]
  },
  {
   "cell_type": "code",
   "execution_count": null,
   "id": "c8ea3cf7",
   "metadata": {},
   "outputs": [],
   "source": [
    "import tensorflow as tf\n",
    "import mnist\n",
    "feature_cols = tf.contrib.learn.infer_real_valued_columns_from_input(X_train)\n",
    "dnn_clf = tf.contrib.learn.DNNClassifier(hidden_units=[300,100], n_classes=10,\n",
    " feature_columns=feature_cols)\n",
    "dnn_clf = tf.contrib.learn.SKCompat(dnn_clf) # if TensorFlow >= 1.1\n",
    "dnn_clf.fit(X_train, y_train, batch_size=50, steps=40000)\n",
    "from sklearn.metrics import accuracy_score\n",
    "y_pred = dnn_clf.predict(X_test)\n",
    "accuracy_score(y_test, y_pred['classes'])\n"
   ]
  },
  {
   "cell_type": "code",
   "execution_count": 5,
   "id": "db4669bf",
   "metadata": {},
   "outputs": [
    {
     "name": "stdout",
     "output_type": "stream",
     "text": [
      "Epoch 1/5\n",
      "1200/1200 [==============================] - 12s 9ms/step - loss: 0.2142 - accuracy: 0.9362\n",
      "Epoch 2/5\n",
      "1200/1200 [==============================] - 10s 9ms/step - loss: 0.0857 - accuracy: 0.9736\n",
      "Epoch 3/5\n",
      "1200/1200 [==============================] - 10s 9ms/step - loss: 0.0590 - accuracy: 0.9814\n",
      "Epoch 4/5\n",
      "1200/1200 [==============================] - 10s 9ms/step - loss: 0.0431 - accuracy: 0.9866\n",
      "Epoch 5/5\n",
      "1200/1200 [==============================] - 11s 9ms/step - loss: 0.0333 - accuracy: 0.9894\n",
      "313/313 [==============================] - 2s 5ms/step - loss: 0.0767 - accuracy: 0.9771\n",
      "\n",
      "Test accuracy: 0.9771000146865845\n",
      "313/313 [==============================] - 1s 4ms/step\n",
      "Sklearn accuracy: 0.9771\n"
     ]
    }
   ],
   "source": [
    "import tensorflow as tf\n",
    "from sklearn.metrics import accuracy_score\n",
    "from tensorflow.keras.utils import to_categorical\n",
    "\n",
    "# Load MNIST dataset (this will download the dataset if not already available)\n",
    "(X_train, y_train), (X_test, y_test) = tf.keras.datasets.mnist.load_data()\n",
    "\n",
    "# Normalize the data (scaling pixel values to range [0, 1])\n",
    "X_train = X_train / 255.0\n",
    "X_test = X_test / 255.0\n",
    "\n",
    "# Convert the labels to one-hot encoding\n",
    "y_train = to_categorical(y_train, 10)\n",
    "y_test = to_categorical(y_test, 10)\n",
    "\n",
    "# Build a Deep Neural Network (DNN) using tf.keras\n",
    "model = tf.keras.Sequential([\n",
    "    tf.keras.layers.Flatten(input_shape=(28, 28)),  # Flatten the 28x28 input images\n",
    "    tf.keras.layers.Dense(300, activation='relu'),  # First hidden layer with 300 units\n",
    "    tf.keras.layers.Dense(100, activation='relu'),  # Second hidden layer with 100 units\n",
    "    tf.keras.layers.Dense(10, activation='softmax') # Output layer with 10 classes (digits 0-9)\n",
    "])\n",
    "\n",
    "# Compile the model\n",
    "model.compile(optimizer='adam', \n",
    "              loss='categorical_crossentropy', \n",
    "              metrics=['accuracy'])\n",
    "\n",
    "# Train the model\n",
    "model.fit(X_train, y_train, epochs=5, batch_size=50)\n",
    "\n",
    "# Evaluate the model on the test set\n",
    "test_loss, test_acc = model.evaluate(X_test, y_test)\n",
    "print(f'\\nTest accuracy: {test_acc}')\n",
    "\n",
    "# Predict class labels on the test set\n",
    "y_pred = model.predict(X_test)\n",
    "y_pred_classes = y_pred.argmax(axis=1)  # Get the predicted class\n",
    "\n",
    "# Convert one-hot encoded y_test back to class labels\n",
    "y_test_classes = y_test.argmax(axis=1)\n",
    "\n",
    "# Calculate accuracy using sklearn\n",
    "accuracy = accuracy_score(y_test_classes, y_pred_classes)\n",
    "print(f'Sklearn accuracy: {accuracy}')\n"
   ]
  },
  {
   "cell_type": "code",
   "execution_count": null,
   "id": "aae3155a",
   "metadata": {},
   "outputs": [],
   "source": []
  }
 ],
 "metadata": {
  "kernelspec": {
   "display_name": "Python 3 (ipykernel)",
   "language": "python",
   "name": "python3"
  },
  "language_info": {
   "codemirror_mode": {
    "name": "ipython",
    "version": 3
   },
   "file_extension": ".py",
   "mimetype": "text/x-python",
   "name": "python",
   "nbconvert_exporter": "python",
   "pygments_lexer": "ipython3",
   "version": "3.9.18"
  }
 },
 "nbformat": 4,
 "nbformat_minor": 5
}
